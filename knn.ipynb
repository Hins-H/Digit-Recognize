{
 "cells": [
  {
   "cell_type": "markdown",
   "metadata": {},
   "source": [
    "## 预处理"
   ]
  },
  {
   "cell_type": "code",
   "execution_count": 1,
   "metadata": {},
   "outputs": [],
   "source": [
    "import preprocess.preprocess as process\n",
    "import numpy as np\n",
    "\n",
    "file_path = \"data/raw/train.csv\"\n",
    "label_names=[\"label\"]\n",
    "\n",
    "preprocesser = process.Preprocessor(\"data/raw/train.csv\")\n",
    "\n",
    "# 预处理\n",
    "preprocesser.remove_duplicates()\n",
    "preprocesser.remove_null_values()\n",
    "\n",
    "# 输出\n",
    "labels, features = preprocesser.split_features_labels(label_names=label_names)\n",
    "labels = np.asarray(labels).T\n",
    "features = features.to_numpy()"
   ]
  },
  {
   "cell_type": "markdown",
   "metadata": {},
   "source": [
    "## KNN"
   ]
  },
  {
   "cell_type": "code",
   "execution_count": 2,
   "metadata": {},
   "outputs": [],
   "source": [
    "from collections import Counter\n",
    "\n",
    "class KNNClassifier:\n",
    "    def __init__(self, k=3):\n",
    "        self.k = k\n",
    "    \n",
    "    def fit(self, train_data, train_labels):\n",
    "        self.train_data = train_data\n",
    "        self.train_labels = train_labels\n",
    "    \n",
    "    def predict(self, test_data):\n",
    "        all_dist = self._get_index(test_data)\n",
    "        all_numbers = self._get_number(all_dist)\n",
    "        min_number = self._get_min_number(all_numbers)\n",
    "        return min_number\n",
    "    \n",
    "    def _get_index(self, test_data):\n",
    "        # 计算测试样本与每一个训练样本的距离\n",
    "        return np.sqrt(np.sum(np.square(test_data - self.train_data), axis=1))\n",
    "    \n",
    "    def _get_number(self, all_dist):\n",
    "        # 计算查找最近的K个训练集所对应的预测值\n",
    "        sorted_indices = np.argsort(all_dist)\n",
    "        top_k_indices = sorted_indices[:self.k]\n",
    "        top_k_labels = self.train_labels[top_k_indices]\n",
    "        return top_k_labels.flatten()\n",
    "    \n",
    "    def _get_min_number(self, all_numbers):\n",
    "        # 在K个预测值中，求众数\n",
    "        counts = Counter(all_numbers)\n",
    "        return counts.most_common(1)[0][0]"
   ]
  },
  {
   "cell_type": "markdown",
   "metadata": {},
   "source": [
    "## 划分验证集和训练集"
   ]
  },
  {
   "cell_type": "code",
   "execution_count": 4,
   "metadata": {},
   "outputs": [
    {
     "name": "stdout",
     "output_type": "stream",
     "text": [
      "Accuracy: {acc:.2f}\n",
      "              precision    recall  f1-score   support\n",
      "\n",
      "           0       0.97      1.00      0.98       408\n",
      "           1       0.93      1.00      0.96       471\n",
      "           2       0.99      0.95      0.97       420\n",
      "           3       0.96      0.96      0.96       506\n",
      "           4       0.98      0.96      0.97       397\n",
      "           5       0.96      0.97      0.97       339\n",
      "           6       0.97      0.98      0.98       402\n",
      "           7       0.95      0.95      0.95       438\n",
      "           8       0.99      0.91      0.95       403\n",
      "           9       0.94      0.96      0.95       416\n",
      "\n",
      "    accuracy                           0.96      4200\n",
      "   macro avg       0.96      0.96      0.96      4200\n",
      "weighted avg       0.96      0.96      0.96      4200\n",
      "\n"
     ]
    }
   ],
   "source": [
    "from sklearn.metrics import classification_report, accuracy_score\n",
    "from sklearn.model_selection import train_test_split\n",
    "\n",
    "X_train, X_test, y_train, y_test = train_test_split(features, labels, test_size=0.1, random_state=42)\n",
    "\n",
    "knn = KNNClassifier(k=10)\n",
    "knn.fit(X_train, y_train)\n",
    "\n",
    "y_pred = []\n",
    "for i in range(len(X_test)):\n",
    "    y_pred.append(knn.predict(X_test[i]))\n",
    "\n",
    "acc = accuracy_score(y_test, y_pred)\n",
    "print(\"Accuracy: {acc:.2f}\")\n",
    "\n",
    "print(classification_report(y_test, y_pred))"
   ]
  },
  {
   "cell_type": "markdown",
   "metadata": {},
   "source": [
    "## 并行化推理测试集"
   ]
  },
  {
   "cell_type": "code",
   "execution_count": 3,
   "metadata": {},
   "outputs": [],
   "source": [
    "import pandas as pd\n",
    "\n",
    "test = pd.read_csv(\"data/raw/test.csv\")\n",
    "test = test.to_numpy()"
   ]
  },
  {
   "cell_type": "code",
   "execution_count": 4,
   "metadata": {},
   "outputs": [
    {
     "name": "stdout",
     "output_type": "stream",
     "text": [
      "a process is predicting\n",
      "a process is predicting\n",
      "a process is predicting\n",
      "a process is predicting\n",
      "a process is predicting\n",
      "a process is predicting\n",
      "a process is predicting\n",
      "a process is predicting\n"
     ]
    }
   ],
   "source": [
    "import multiprocessing\n",
    "\n",
    "def predict(test_data):\n",
    "    print(\"a process is predicting\")\n",
    "    knn = KNNClassifier(k = 10)\n",
    "    knn.fit(features, labels)\n",
    "    \n",
    "    results = []\n",
    "    for i in range(len(test_data)):\n",
    "        results.append(knn.predict(test_data[i]))\n",
    "    return results\n",
    "\n",
    "def parrallel_predict(test_data, num_cores=4):\n",
    "    # 划分数据集\n",
    "    step = len(test_data) // num_cores\n",
    "\n",
    "    grouped_data = [test_data[i : i+step] for i in range(0, len(test_data), step)]\n",
    "\n",
    "    grouped_data[-1] = np.concatenate((grouped_data[-1], test_data[step * num_cores : ]))\n",
    "\n",
    "    # 并行预测\n",
    "    pool = multiprocessing.Pool(num_cores)\n",
    "\n",
    "    results = pool.map(predict, grouped_data)\n",
    "\n",
    "    pool.close()\n",
    "    pool.join() \n",
    "    return results\n",
    "\n",
    "y_pred = parrallel_predict(test, num_cores=8)"
   ]
  },
  {
   "cell_type": "code",
   "execution_count": 6,
   "metadata": {},
   "outputs": [
    {
     "name": "stdout",
     "output_type": "stream",
     "text": [
      "<bound method DataFrame.info of          Label\n",
      "ImageId       \n",
      "1            2\n",
      "2            0\n",
      "3            9\n",
      "4            9\n",
      "5            3\n",
      "...        ...\n",
      "27996        9\n",
      "27997        7\n",
      "27998        3\n",
      "27999        9\n",
      "28000        2\n",
      "\n",
      "[28000 rows x 1 columns]>\n"
     ]
    }
   ],
   "source": [
    "# 展平预测结果\n",
    "y_pred = sum(y_pred, [])\n",
    "\n",
    "# 保存成csv文件，（ImageId，Label）\n",
    "df = pd.DataFrame({'Label': y_pred})\n",
    "df.index += 1\n",
    "df.index.name = \"ImageId\"\n",
    "print(df.info)\n",
    "df.to_csv(\"data/processed/knn_test.csv\")"
   ]
  },
  {
   "cell_type": "code",
   "execution_count": null,
   "metadata": {},
   "outputs": [],
   "source": []
  }
 ],
 "metadata": {
  "kernelspec": {
   "display_name": "digit_recognize",
   "language": "python",
   "name": "python3"
  },
  "language_info": {
   "codemirror_mode": {
    "name": "ipython",
    "version": 3
   },
   "file_extension": ".py",
   "mimetype": "text/x-python",
   "name": "python",
   "nbconvert_exporter": "python",
   "pygments_lexer": "ipython3",
   "version": "3.11.9"
  }
 },
 "nbformat": 4,
 "nbformat_minor": 2
}
