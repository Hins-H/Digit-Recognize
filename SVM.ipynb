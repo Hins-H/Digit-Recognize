{
 "cells": [
  {
   "cell_type": "markdown",
   "metadata": {},
   "source": [
    "## 预处理"
   ]
  },
  {
   "cell_type": "code",
   "execution_count": 1,
   "metadata": {},
   "outputs": [],
   "source": [
    "import preprocess.preprocess as process\n",
    "import numpy as np\n",
    "\n",
    "file_path = \"data/raw/train.csv\"\n",
    "label_names=[\"label\"]\n",
    "\n",
    "preprocesser = process.Preprocessor(\"data/raw/train.csv\")\n",
    "\n",
    "# 预处理\n",
    "preprocesser.remove_duplicates()\n",
    "preprocesser.remove_null_values()\n",
    "\n",
    "# 输出\n",
    "labels, features = preprocesser.split_features_labels(label_names=label_names)\n",
    "labels = np.asarray(labels).T\n",
    "features = features.to_numpy()"
   ]
  },
  {
   "cell_type": "markdown",
   "metadata": {},
   "source": [
    "## SVM(调用库函数)"
   ]
  },
  {
   "cell_type": "code",
   "execution_count": 2,
   "metadata": {},
   "outputs": [
    {
     "name": "stderr",
     "output_type": "stream",
     "text": [
      "/home/gresham/anaconda3/envs/digit_recognize/lib/python3.11/site-packages/sklearn/utils/validation.py:1300: DataConversionWarning: A column-vector y was passed when a 1d array was expected. Please change the shape of y to (n_samples, ), for example using ravel().\n",
      "  y = column_or_1d(y, warn=True)\n"
     ]
    },
    {
     "name": "stdout",
     "output_type": "stream",
     "text": [
      "Accuracy: 0.91\n",
      "              precision    recall  f1-score   support\n",
      "\n",
      "           0       0.96      0.97      0.96       816\n",
      "           1       0.95      0.98      0.97       909\n",
      "           2       0.89      0.91      0.90       846\n",
      "           3       0.88      0.87      0.88       937\n",
      "           4       0.91      0.92      0.92       839\n",
      "           5       0.86      0.88      0.87       702\n",
      "           6       0.94      0.96      0.95       785\n",
      "           7       0.91      0.89      0.90       893\n",
      "           8       0.91      0.85      0.87       835\n",
      "           9       0.88      0.86      0.87       838\n",
      "\n",
      "    accuracy                           0.91      8400\n",
      "   macro avg       0.91      0.91      0.91      8400\n",
      "weighted avg       0.91      0.91      0.91      8400\n",
      "\n"
     ]
    }
   ],
   "source": [
    "from sklearn.svm import SVC\n",
    "from sklearn.metrics import classification_report, accuracy_score\n",
    "from sklearn.model_selection import train_test_split\n",
    "\n",
    "# 划分训练集和测试集\n",
    "X_train, X_test, y_train, y_test = train_test_split(features, labels, test_size=0.2, random_state=42)\n",
    "\n",
    "# 创建 SVM 分类器实例，设置决策函数为 'ovo'（一对一）或 'ovr'（一对其余）\n",
    "# 对于多分类问题，默认是 'ovr'\n",
    "svm = SVC(kernel='linear', C=1.0, decision_function_shape='ovr')\n",
    "\n",
    "train_num = 20000\n",
    "\n",
    "# 训练 SVM 分类器\n",
    "svm.fit(X_train[:train_num], y_train[:train_num])\n",
    "\n",
    "# 进行预测\n",
    "y_pred = svm.predict(X_test)\n",
    "\n",
    "# 计算准确率\n",
    "accuracy = accuracy_score(y_test, y_pred)\n",
    "print(f\"Accuracy: {accuracy:.2f}\")\n",
    "\n",
    "# 打印分类报告\n",
    "print(classification_report(y_test, y_pred))"
   ]
  },
  {
   "cell_type": "code",
   "execution_count": 3,
   "metadata": {},
   "outputs": [
    {
     "name": "stdout",
     "output_type": "stream",
     "text": [
      "<bound method DataFrame.info of          Label\n",
      "ImageId       \n",
      "1            2\n",
      "2            0\n",
      "3            5\n",
      "4            7\n",
      "5            2\n",
      "...        ...\n",
      "27996        4\n",
      "27997        7\n",
      "27998        3\n",
      "27999        9\n",
      "28000        2\n",
      "\n",
      "[28000 rows x 1 columns]>\n"
     ]
    }
   ],
   "source": [
    "import pandas as pd\n",
    "\n",
    "test = pd.read_csv(\"data/raw/test.csv\")\n",
    "test = test.to_numpy()\n",
    "\n",
    "y_pred = svm.predict(test)\n",
    "\n",
    "# 保存成csv文件，（ImageId，Label）\n",
    "df = pd.DataFrame({'Label': y_pred})\n",
    "df.index += 1\n",
    "df.index.name = \"ImageId\"\n",
    "print(df.info)\n",
    "df.to_csv(\"data/processed/SVM_test.csv\")"
   ]
  },
  {
   "cell_type": "code",
   "execution_count": null,
   "metadata": {},
   "outputs": [],
   "source": []
  }
 ],
 "metadata": {
  "kernelspec": {
   "display_name": "digit_recognize",
   "language": "python",
   "name": "python3"
  },
  "language_info": {
   "codemirror_mode": {
    "name": "ipython",
    "version": 3
   },
   "file_extension": ".py",
   "mimetype": "text/x-python",
   "name": "python",
   "nbconvert_exporter": "python",
   "pygments_lexer": "ipython3",
   "version": "3.11.9"
  }
 },
 "nbformat": 4,
 "nbformat_minor": 2
}
